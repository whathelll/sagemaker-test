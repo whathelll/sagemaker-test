{
 "cells": [
  {
   "cell_type": "markdown",
   "metadata": {},
   "source": [
    "# Roboschool simulations of physical robotics with Amazon SageMaker\n",
    "\n",
    "---\n",
    "## Introduction\n",
    "\n",
    "Roboschool is an [open source](https://github.com/openai/roboschool/tree/master/roboschool) physics simulator that is commonly used to train RL policies for simulated robotic systems.  Roboschool provides 3D visualization of physical systems with multiple joints in contact with each other and their environment.\n",
    "\n",
    "This notebook will show how to install Roboschool into the SageMaker RL container, and train pre-built robotics applications that are included with Roboschool."
   ]
  },
  {
   "cell_type": "markdown",
   "metadata": {},
   "source": [
    "## Pick which Roboschool problem to solve\n",
    "\n",
    "Roboschool defines a [variety](https://github.com/openai/roboschool/blob/master/roboschool/__init__.py) of Gym environments that correspond to different robotics problems.  Here we're highlighting a few of them at varying levels of difficulty:\n",
    "\n",
    "- **Reacher (easy)** - a very simple robot with just 2 joints reaches for a target\n",
    "- **Hopper (medium)** - a simple robot with one leg and a foot learns to hop down a track \n",
    "- **Humanoid (difficult)** - a complex 3D robot with two arms, two legs, etc. learns to balance without falling over and then to run on a track\n",
    "\n",
    "The simpler problems train faster with less computational resources.  The more complex problems are more fun."
   ]
  },
  {
   "cell_type": "code",
   "execution_count": 1,
   "metadata": {},
   "outputs": [],
   "source": [
    "# Uncomment the problem to work on\n",
    "roboschool_problem = 'cartpole'\n",
    "#roboschool_problem = 'hopper'\n",
    "#roboschool_problem = 'humanoid'"
   ]
  },
  {
   "cell_type": "markdown",
   "metadata": {},
   "source": [
    "## Pre-requisites \n",
    "\n",
    "### Imports\n",
    "\n",
    "To get started, we'll import the Python libraries we need, set up the environment with a few prerequisites for permissions and configurations."
   ]
  },
  {
   "cell_type": "code",
   "execution_count": 2,
   "metadata": {
    "scrolled": true
   },
   "outputs": [],
   "source": [
    "import sagemaker\n",
    "import boto3\n",
    "import sys\n",
    "import os\n",
    "import glob\n",
    "import re\n",
    "import subprocess\n",
    "import numpy as np\n",
    "from IPython.display import HTML\n",
    "import time\n",
    "from time import gmtime, strftime\n",
    "sys.path.append(\"common\")\n",
    "from misc import get_execution_role, wait_for_s3_object\n",
    "from docker_utils import build_and_push_docker_image\n",
    "from sagemaker.rl import RLEstimator, RLToolkit, RLFramework"
   ]
  },
  {
   "cell_type": "markdown",
   "metadata": {},
   "source": [
    "### Setup S3 bucket\n",
    "\n",
    "Set up the linkage and authentication to the S3 bucket that you want to use for checkpoint and the metadata. "
   ]
  },
  {
   "cell_type": "code",
   "execution_count": 3,
   "metadata": {},
   "outputs": [
    {
     "name": "stdout",
     "output_type": "stream",
     "text": [
      "S3 bucket path: s3://sagemaker-ap-northeast-1-669108200413/\n"
     ]
    }
   ],
   "source": [
    "sage_session = sagemaker.session.Session()\n",
    "s3_bucket = sage_session.default_bucket()  \n",
    "s3_output_path = 's3://{}/'.format(s3_bucket)\n",
    "print(\"S3 bucket path: {}\".format(s3_output_path))"
   ]
  },
  {
   "cell_type": "markdown",
   "metadata": {},
   "source": [
    "### Define Variables \n",
    "\n",
    "We define variables such as the job prefix for the training jobs *and the image path for the container (only when this is BYOC).*"
   ]
  },
  {
   "cell_type": "code",
   "execution_count": 4,
   "metadata": {},
   "outputs": [],
   "source": [
    "# create a descriptive job name \n",
    "job_name_prefix = 'rl-gym-'+roboschool_problem"
   ]
  },
  {
   "cell_type": "markdown",
   "metadata": {},
   "source": [
    "### Configure where training happens\n",
    "\n",
    "You can train your RL training jobs using the SageMaker notebook instance or local notebook instance. In both of these scenarios, you can run the following in either local or SageMaker modes. The local mode uses the SageMaker Python SDK to run your code in a local container before deploying to SageMaker. This can speed up iterative testing and debugging while using the same familiar Python SDK interface. You just need to set `local_mode = True`."
   ]
  },
  {
   "cell_type": "code",
   "execution_count": 5,
   "metadata": {},
   "outputs": [],
   "source": [
    "# run in local_mode on this machine, or as a SageMaker TrainingJob?\n",
    "local_mode = False\n",
    "\n",
    "if local_mode:\n",
    "    instance_type = 'local'\n",
    "else:\n",
    "    # If on SageMaker, pick the instance type\n",
    "    instance_type = \"ml.c5.2xlarge\""
   ]
  },
  {
   "cell_type": "markdown",
   "metadata": {},
   "source": [
    "### Create an IAM role\n",
    "\n",
    "Either get the execution role when running from a SageMaker notebook instance `role = sagemaker.get_execution_role()` or, when running from local notebook instance, use utils method `role = get_execution_role()` to create an execution role."
   ]
  },
  {
   "cell_type": "code",
   "execution_count": 6,
   "metadata": {},
   "outputs": [
    {
     "name": "stdout",
     "output_type": "stream",
     "text": [
      "Using IAM role arn: arn:aws:iam::669108200413:role/service-role/AmazonSageMaker-ExecutionRole-20190324T002031\n"
     ]
    }
   ],
   "source": [
    "try:\n",
    "    role = sagemaker.get_execution_role()\n",
    "except:\n",
    "    role = get_execution_role()\n",
    "\n",
    "print(\"Using IAM role arn: {}\".format(role))"
   ]
  },
  {
   "cell_type": "markdown",
   "metadata": {},
   "source": [
    "### Install docker for `local` mode\n",
    "\n",
    "In order to work in `local` mode, you need to have docker installed. When running from you local machine, please make sure that you have docker and docker-compose (for local CPU machines) and nvidia-docker (for local GPU machines) installed. Alternatively, when running from a SageMaker notebook instance, you can simply run the following script to install dependenceis.\n",
    "\n",
    "Note, you can only run a single local notebook at one time."
   ]
  },
  {
   "cell_type": "code",
   "execution_count": 7,
   "metadata": {},
   "outputs": [],
   "source": [
    "# only run from SageMaker notebook instance\n",
    "if local_mode:\n",
    "    !/bin/bash ./common/setup.sh"
   ]
  },
  {
   "cell_type": "markdown",
   "metadata": {},
   "source": [
    "## Build docker container\n",
    "\n",
    "We must build a custom docker container with Roboschool installed.  This takes care of everything:\n",
    "\n",
    "1. Fetching base container image\n",
    "2. Installing Roboschool and its dependencies\n",
    "3. Uploading the new container image to ECR\n",
    "\n",
    "This step can take a long time if you are running on a machine with a slow internet connection.  If your notebook instance is in SageMaker or EC2 it should take 3-10 minutes depending on the instance type.\n"
   ]
  },
  {
   "cell_type": "code",
   "execution_count": 10,
   "metadata": {},
   "outputs": [
    {
     "name": "stdout",
     "output_type": "stream",
     "text": [
      "WARNING! Using --password via the CLI is insecure. Use --password-stdin.\n",
      "WARNING! Your password will be stored unencrypted in /home/ec2-user/.docker/config.json.\n",
      "Configure a credential helper to remove this warning. See\n",
      "https://docs.docker.com/engine/reference/commandline/login/#credentials-store\n",
      "\n",
      "Login Succeeded\n",
      "Logged into ECR\n",
      "Building docker image sagemaker-gym-ray-cpu from Dockerfile\n",
      "$ docker build -t sagemaker-gym-ray-cpu -f Dockerfile . --build-arg CPU_OR_GPU=cpu --build-arg AWS_REGION=ap-northeast-1\n",
      "Sending build context to Docker daemon    320kB\n",
      "Step 1/11 : ARG CPU_OR_GPU\n",
      "Step 2/11 : ARG AWS_REGION\n",
      "Step 3/11 : FROM 520713654638.dkr.ecr.${AWS_REGION}.amazonaws.com/sagemaker-rl-tensorflow:ray0.5.3-${CPU_OR_GPU}-py3\n",
      " ---> b522ab9d6e52\n",
      "Step 4/11 : WORKDIR /opt/ml\n",
      " ---> Using cache\n",
      " ---> cff84b097a3f\n",
      "Step 5/11 : RUN apt-get update && apt-get install -y       git cmake ffmpeg pkg-config       qtbase5-dev libqt5opengl5-dev libassimp-dev       libpython3.5-dev libtinyxml-dev     && cd /opt     && apt-get clean && rm -rf /var/cache/apt/archives/* /var/lib/apt/lists/*\n",
      " ---> Using cache\n",
      " ---> 982ebc3bb4de\n",
      "Step 6/11 : RUN pip install --upgrade     pip     setuptools\n",
      " ---> Using cache\n",
      " ---> c391ef5b61f7\n",
      "Step 7/11 : RUN ldconfig\n",
      " ---> Using cache\n",
      " ---> cda2c991d844\n",
      "Step 8/11 : RUN pip install sagemaker-containers --upgrade\n",
      " ---> Using cache\n",
      " ---> f25b2a9b66c5\n",
      "Step 9/11 : ENV PYTHONUNBUFFERED 1\n",
      " ---> Using cache\n",
      " ---> fd9df56b6951\n",
      "Step 10/11 : RUN python -c \"import gym;import sagemaker_containers.cli.train; import ray; from sagemaker_containers.cli.train import main\"\n",
      " ---> Using cache\n",
      " ---> 198beed9f3fb\n",
      "Step 11/11 : WORKDIR /opt/ml/code\n",
      " ---> Using cache\n",
      " ---> 1bcb69219ff6\n",
      "Successfully built 1bcb69219ff6\n",
      "Successfully tagged sagemaker-gym-ray-cpu:latest\n",
      "Done building docker image sagemaker-gym-ray-cpu\n",
      "ECR repository already exists: sagemaker-gym-ray-cpu\n",
      "WARNING! Using --password via the CLI is insecure. Use --password-stdin.\n",
      "WARNING! Your password will be stored unencrypted in /home/ec2-user/.docker/config.json.\n",
      "Configure a credential helper to remove this warning. See\n",
      "https://docs.docker.com/engine/reference/commandline/login/#credentials-store\n",
      "\n",
      "Login Succeeded\n",
      "Logged into ECR\n",
      "$ docker tag sagemaker-gym-ray-cpu 669108200413.dkr.ecr.ap-northeast-1.amazonaws.com/sagemaker-gym-ray-cpu\n",
      "Pushing docker image to ECR repository 669108200413.dkr.ecr.ap-northeast-1.amazonaws.com/sagemaker-gym-ray-cpu\n",
      "\n",
      "$ docker push 669108200413.dkr.ecr.ap-northeast-1.amazonaws.com/sagemaker-gym-ray-cpu\n",
      "The push refers to repository [669108200413.dkr.ecr.ap-northeast-1.amazonaws.com/sagemaker-gym-ray-cpu]\n",
      "7074708bfc32: Preparing\n",
      "3adc3a4d94d3: Preparing\n",
      "9279ee967f90: Preparing\n",
      "ae5e26d8316f: Preparing\n",
      "329be4a143f8: Preparing\n",
      "cfec59a8bf6c: Preparing\n",
      "79e4b43308b4: Preparing\n",
      "60a4c6264060: Preparing\n",
      "6ee8fe30b55b: Preparing\n",
      "36cb14e2633d: Preparing\n",
      "c9bbcdfaaa98: Preparing\n",
      "09b011f6bf18: Preparing\n",
      "296294040c48: Preparing\n",
      "302af95b9e68: Preparing\n",
      "0ecacb4d5bb1: Preparing\n",
      "d6db7d05e3b2: Preparing\n",
      "8d999119430c: Preparing\n",
      "fe4ed9a0e78a: Preparing\n",
      "3db5746c911a: Preparing\n",
      "819a824caf70: Preparing\n",
      "647265b9d8bc: Preparing\n",
      "41c002c8a6fd: Preparing\n",
      "cfec59a8bf6c: Waiting\n",
      "79e4b43308b4: Waiting\n",
      "60a4c6264060: Waiting\n",
      "6ee8fe30b55b: Waiting\n",
      "36cb14e2633d: Waiting\n",
      "c9bbcdfaaa98: Waiting\n",
      "09b011f6bf18: Waiting\n",
      "296294040c48: Waiting\n",
      "302af95b9e68: Waiting\n",
      "0ecacb4d5bb1: Waiting\n",
      "d6db7d05e3b2: Waiting\n",
      "8d999119430c: Waiting\n",
      "fe4ed9a0e78a: Waiting\n",
      "3db5746c911a: Waiting\n",
      "819a824caf70: Waiting\n",
      "647265b9d8bc: Waiting\n",
      "41c002c8a6fd: Waiting\n",
      "ae5e26d8316f: Layer already exists\n",
      "9279ee967f90: Layer already exists\n",
      "329be4a143f8: Layer already exists\n",
      "7074708bfc32: Layer already exists\n",
      "3adc3a4d94d3: Layer already exists\n",
      "79e4b43308b4: Layer already exists\n",
      "6ee8fe30b55b: Layer already exists\n",
      "36cb14e2633d: Layer already exists\n",
      "cfec59a8bf6c: Layer already exists\n",
      "c9bbcdfaaa98: Layer already exists\n",
      "60a4c6264060: Layer already exists\n",
      "296294040c48: Layer already exists\n",
      "09b011f6bf18: Layer already exists\n",
      "302af95b9e68: Layer already exists\n",
      "8d999119430c: Layer already exists\n",
      "d6db7d05e3b2: Layer already exists\n",
      "0ecacb4d5bb1: Layer already exists\n",
      "3db5746c911a: Layer already exists\n",
      "fe4ed9a0e78a: Layer already exists\n",
      "647265b9d8bc: Layer already exists\n",
      "819a824caf70: Layer already exists\n",
      "41c002c8a6fd: Layer already exists\n",
      "latest: digest: sha256:0eeeee9e9c16e17650ce442e611a3137b1583ebb4a27c75743ce726bf9decad0 size: 4935\n",
      "Done pushing 669108200413.dkr.ecr.ap-northeast-1.amazonaws.com/sagemaker-gym-ray-cpu\n",
      "Using ECR image 669108200413.dkr.ecr.ap-northeast-1.amazonaws.com/sagemaker-gym-ray-cpu\n",
      "CPU times: user 113 ms, sys: 30.4 ms, total: 144 ms\n",
      "Wall time: 2.05 s\n"
     ]
    }
   ],
   "source": [
    "%%time\n",
    "\n",
    "cpu_or_gpu = 'gpu' if instance_type.startswith('ml.p') else 'cpu'\n",
    "repository_short_name = \"sagemaker-gym-ray-%s\" % cpu_or_gpu\n",
    "docker_build_args = {\n",
    "    'CPU_OR_GPU': cpu_or_gpu, \n",
    "    'AWS_REGION': boto3.Session().region_name,\n",
    "}\n",
    "custom_image_name = build_and_push_docker_image(repository_short_name, build_args=docker_build_args)\n",
    "print(\"Using ECR image %s\" % custom_image_name)"
   ]
  },
  {
   "cell_type": "markdown",
   "metadata": {},
   "source": [
    "## Write the Training Code\n",
    "\n",
    "The training code is written in the file “train-coach.py” which is uploaded in the /src directory. \n",
    "First import the environment files and the preset files, and then define the main() function. "
   ]
  },
  {
   "cell_type": "code",
   "execution_count": 11,
   "metadata": {},
   "outputs": [
    {
     "name": "stdout",
     "output_type": "stream",
     "text": [
      "\u001b[34mimport\u001b[39;49;00m \u001b[04m\u001b[36mjson\u001b[39;49;00m\r\n",
      "\u001b[34mimport\u001b[39;49;00m \u001b[04m\u001b[36mos\u001b[39;49;00m\r\n",
      "\r\n",
      "\u001b[34mimport\u001b[39;49;00m \u001b[04m\u001b[36mgym\u001b[39;49;00m\r\n",
      "\u001b[34mimport\u001b[39;49;00m \u001b[04m\u001b[36mray\u001b[39;49;00m\r\n",
      "\u001b[34mfrom\u001b[39;49;00m \u001b[04m\u001b[36mray.tune\u001b[39;49;00m \u001b[34mimport\u001b[39;49;00m run_experiments\r\n",
      "\u001b[34mfrom\u001b[39;49;00m \u001b[04m\u001b[36mray.tune.registry\u001b[39;49;00m \u001b[34mimport\u001b[39;49;00m register_env\r\n",
      "\r\n",
      "\u001b[34mfrom\u001b[39;49;00m \u001b[04m\u001b[36msagemaker_rl.ray_launcher\u001b[39;49;00m \u001b[34mimport\u001b[39;49;00m SageMakerRayLauncher\r\n",
      "\r\n",
      "\r\n",
      "\u001b[34mdef\u001b[39;49;00m \u001b[32mcreate_environment\u001b[39;49;00m(env_config):\r\n",
      "    \u001b[37m# This import must happen inside the method so that worker processes import this code\u001b[39;49;00m\r\n",
      "    \u001b[34mreturn\u001b[39;49;00m gym.make(\u001b[33m'\u001b[39;49;00m\u001b[33mCartPole-v0\u001b[39;49;00m\u001b[33m'\u001b[39;49;00m)\r\n",
      "\r\n",
      "\r\n",
      "\u001b[34mclass\u001b[39;49;00m \u001b[04m\u001b[32mMyLauncher\u001b[39;49;00m(SageMakerRayLauncher):\r\n",
      "\r\n",
      "    \u001b[34mdef\u001b[39;49;00m \u001b[32mregister_env_creator\u001b[39;49;00m(\u001b[36mself\u001b[39;49;00m):\r\n",
      "        register_env(\u001b[33m\"\u001b[39;49;00m\u001b[33mCartPole-v0\u001b[39;49;00m\u001b[33m\"\u001b[39;49;00m, create_environment)\r\n",
      "\r\n",
      "    \u001b[34mdef\u001b[39;49;00m \u001b[32mget_experiment_config\u001b[39;49;00m(\u001b[36mself\u001b[39;49;00m):\r\n",
      "        \u001b[34mreturn\u001b[39;49;00m {\r\n",
      "          \u001b[33m\"\u001b[39;49;00m\u001b[33mtraining\u001b[39;49;00m\u001b[33m\"\u001b[39;49;00m: { \r\n",
      "            \u001b[33m\"\u001b[39;49;00m\u001b[33menv\u001b[39;49;00m\u001b[33m\"\u001b[39;49;00m: \u001b[33m\"\u001b[39;49;00m\u001b[33mCartPole-v0\u001b[39;49;00m\u001b[33m\"\u001b[39;49;00m,\r\n",
      "            \u001b[33m\"\u001b[39;49;00m\u001b[33mrun\u001b[39;49;00m\u001b[33m\"\u001b[39;49;00m: \u001b[33m\"\u001b[39;49;00m\u001b[33mPPO\u001b[39;49;00m\u001b[33m\"\u001b[39;49;00m,\r\n",
      "            \u001b[33m\"\u001b[39;49;00m\u001b[33mstop\u001b[39;49;00m\u001b[33m\"\u001b[39;49;00m: {\r\n",
      "              \u001b[33m\"\u001b[39;49;00m\u001b[33mepisode_reward_mean\u001b[39;49;00m\u001b[33m\"\u001b[39;49;00m: \u001b[34m200\u001b[39;49;00m,\r\n",
      "            },\r\n",
      "            \u001b[33m\"\u001b[39;49;00m\u001b[33mconfig\u001b[39;49;00m\u001b[33m\"\u001b[39;49;00m: {\r\n",
      "              \u001b[33m\"\u001b[39;49;00m\u001b[33mgamma\u001b[39;49;00m\u001b[33m\"\u001b[39;49;00m: \u001b[34m0.995\u001b[39;49;00m,\r\n",
      "              \u001b[33m\"\u001b[39;49;00m\u001b[33mkl_coeff\u001b[39;49;00m\u001b[33m\"\u001b[39;49;00m: \u001b[34m1.0\u001b[39;49;00m,\r\n",
      "              \u001b[33m\"\u001b[39;49;00m\u001b[33mnum_sgd_iter\u001b[39;49;00m\u001b[33m\"\u001b[39;49;00m: \u001b[34m20\u001b[39;49;00m,\r\n",
      "              \u001b[33m\"\u001b[39;49;00m\u001b[33mlr\u001b[39;49;00m\u001b[33m\"\u001b[39;49;00m: \u001b[34m0.0001\u001b[39;49;00m,\r\n",
      "              \u001b[33m\"\u001b[39;49;00m\u001b[33msgd_minibatch_size\u001b[39;49;00m\u001b[33m\"\u001b[39;49;00m: \u001b[34m1000\u001b[39;49;00m,\r\n",
      "              \u001b[33m\"\u001b[39;49;00m\u001b[33mtrain_batch_size\u001b[39;49;00m\u001b[33m\"\u001b[39;49;00m: \u001b[34m25000\u001b[39;49;00m,\r\n",
      "              \u001b[33m\"\u001b[39;49;00m\u001b[33mmonitor\u001b[39;49;00m\u001b[33m\"\u001b[39;49;00m: \u001b[36mTrue\u001b[39;49;00m,  \u001b[37m# Record videos.\u001b[39;49;00m\r\n",
      "              \u001b[33m\"\u001b[39;49;00m\u001b[33mmodel\u001b[39;49;00m\u001b[33m\"\u001b[39;49;00m: {\r\n",
      "                \u001b[33m\"\u001b[39;49;00m\u001b[33mfree_log_std\u001b[39;49;00m\u001b[33m\"\u001b[39;49;00m: \u001b[36mTrue\u001b[39;49;00m\r\n",
      "              },\r\n",
      "              \u001b[33m\"\u001b[39;49;00m\u001b[33mnum_workers\u001b[39;49;00m\u001b[33m\"\u001b[39;49;00m: (\u001b[36mself\u001b[39;49;00m.num_cpus-\u001b[34m1\u001b[39;49;00m),\r\n",
      "              \u001b[33m\"\u001b[39;49;00m\u001b[33mnum_gpus\u001b[39;49;00m\u001b[33m\"\u001b[39;49;00m: \u001b[36mself\u001b[39;49;00m.num_gpus,\r\n",
      "              \u001b[33m\"\u001b[39;49;00m\u001b[33mbatch_mode\u001b[39;49;00m\u001b[33m\"\u001b[39;49;00m: \u001b[33m\"\u001b[39;49;00m\u001b[33mcomplete_episodes\u001b[39;49;00m\u001b[33m\"\u001b[39;49;00m\r\n",
      "            }\r\n",
      "          }\r\n",
      "        }\r\n",
      "\r\n",
      "\u001b[34mif\u001b[39;49;00m \u001b[31m__name__\u001b[39;49;00m == \u001b[33m\"\u001b[39;49;00m\u001b[33m__main__\u001b[39;49;00m\u001b[33m\"\u001b[39;49;00m:\r\n",
      "    MyLauncher().train_main()\r\n"
     ]
    }
   ],
   "source": [
    "!pygmentize src/train-{roboschool_problem}.py"
   ]
  },
  {
   "cell_type": "markdown",
   "metadata": {},
   "source": [
    "## Train the RL model using the Python SDK Script mode\n",
    "\n",
    "If you are using local mode, the training will run on the notebook instance. When using SageMaker for training, you can select a GPU or CPU instance. The RLEstimator is used for training RL jobs. \n",
    "\n",
    "1. Specify the source directory where the environment, presets and training code is uploaded.\n",
    "2. Specify the entry point as the training code \n",
    "3. Specify the choice of RL toolkit and framework. This automatically resolves to the ECR path for the RL Container. \n",
    "4. Define the training parameters such as the instance count, job name, S3 path for output and job name. \n",
    "5. Specify the hyperparameters for the RL agent algorithm. The RLCOACH_PRESET or the RLRAY_PRESET can be used to specify the RL agent algorithm you want to use. \n",
    "6. Define the metrics definitions that you are interested in capturing in your logs. These can also be visualized in CloudWatch and SageMaker Notebooks. "
   ]
  },
  {
   "cell_type": "code",
   "execution_count": 12,
   "metadata": {},
   "outputs": [
    {
     "name": "stderr",
     "output_type": "stream",
     "text": [
      "INFO:sagemaker:Creating training-job with name: rl-gym-cartpole-2019-03-27-13-01-42-105\n"
     ]
    },
    {
     "name": "stdout",
     "output_type": "stream",
     "text": [
      "Training job: rl-gym-cartpole-2019-03-27-13-01-42-105\n",
      "CPU times: user 94.9 ms, sys: 8.6 ms, total: 103 ms\n",
      "Wall time: 382 ms\n"
     ]
    }
   ],
   "source": [
    "%%time\n",
    "\n",
    "metric_definitions = RLEstimator.default_metric_definitions(RLToolkit.RAY)\n",
    "    \n",
    "estimator = RLEstimator(entry_point=\"train-%s.py\" % roboschool_problem,\n",
    "                        source_dir='src',\n",
    "                        dependencies=[\"common/sagemaker_rl\"],\n",
    "                        image_name=custom_image_name,\n",
    "                        role=role,\n",
    "                        train_instance_type=instance_type,\n",
    "                        train_instance_count=1,\n",
    "                        output_path=s3_output_path,\n",
    "                        base_job_name=job_name_prefix,\n",
    "                        metric_definitions=metric_definitions,\n",
    "                        hyperparameters={\n",
    "                          # Attention scientists!  You can override any Ray algorithm parameter here:\n",
    "                          #\"rl.training.config.horizon\": 5000,\n",
    "                          #\"rl.training.config.num_sgd_iter\": 10,\n",
    "                        }\n",
    "                    )\n",
    "\n",
    "estimator.fit(wait=local_mode)\n",
    "job_name = estimator.latest_training_job.job_name\n",
    "print(\"Training job: %s\" % job_name)"
   ]
  },
  {
   "cell_type": "markdown",
   "metadata": {},
   "source": [
    "## Visualization\n",
    "\n",
    "RL training can take a long time.  So while it's running there are a variety of ways we can track progress of the running training job.  Some intermediate output gets saved to S3 during training, so we'll set up to capture that."
   ]
  },
  {
   "cell_type": "code",
   "execution_count": 13,
   "metadata": {},
   "outputs": [
    {
     "name": "stdout",
     "output_type": "stream",
     "text": [
      "Job name: rl-gym-cartpole-2019-03-27-13-01-42-105\n",
      "S3 job path: s3://sagemaker-ap-northeast-1-669108200413/rl-gym-cartpole-2019-03-27-13-01-42-105\n",
      "Intermediate folder path: s3://sagemaker-ap-northeast-1-669108200413/rl-gym-cartpole-2019-03-27-13-01-42-105/output/intermediate/\n",
      "Create local folder /tmp/rl-gym-cartpole-2019-03-27-13-01-42-105\n"
     ]
    }
   ],
   "source": [
    "print(\"Job name: {}\".format(job_name))\n",
    "\n",
    "s3_url = \"s3://{}/{}\".format(s3_bucket,job_name)\n",
    "\n",
    "intermediate_folder_key = \"{}/output/intermediate/\".format(job_name)\n",
    "intermediate_url = \"s3://{}/{}\".format(s3_bucket, intermediate_folder_key)\n",
    "\n",
    "print(\"S3 job path: {}\".format(s3_url))\n",
    "print(\"Intermediate folder path: {}\".format(intermediate_url))\n",
    "    \n",
    "tmp_dir = \"/tmp/{}\".format(job_name)\n",
    "os.system(\"mkdir {}\".format(tmp_dir))\n",
    "print(\"Create local folder {}\".format(tmp_dir))"
   ]
  },
  {
   "cell_type": "markdown",
   "metadata": {},
   "source": [
    "### Fetch videos of training rollouts\n",
    "Videos of certain rollouts get written to S3 during training.  Here we fetch the last 10 videos from S3, and render the last one."
   ]
  },
  {
   "cell_type": "code",
   "execution_count": 14,
   "metadata": {},
   "outputs": [
    {
     "name": "stdout",
     "output_type": "stream",
     "text": [
      "Waiting for s3://sagemaker-ap-northeast-1-669108200413/rl-gym-cartpole-2019-03-27-13-01-42-105/output/intermediate/...\n",
      "Only downloading 10 of 62 files\n",
      "Downloading rl-gym-cartpole-2019-03-27-13-01-42-105/output/intermediate/training/PPO_CartPole-v0_0_2019-03-27_13-04-33uf17n4kw/openaigym.video.0.124.video000512.mp4\n",
      "Downloading rl-gym-cartpole-2019-03-27-13-01-42-105/output/intermediate/training/PPO_CartPole-v0_0_2019-03-27_13-04-33uf17n4kw/openaigym.video.0.125.video000000.mp4\n",
      "Downloading rl-gym-cartpole-2019-03-27-13-01-42-105/output/intermediate/training/PPO_CartPole-v0_0_2019-03-27_13-04-33uf17n4kw/openaigym.video.0.125.video000001.mp4\n",
      "Downloading rl-gym-cartpole-2019-03-27-13-01-42-105/output/intermediate/training/PPO_CartPole-v0_0_2019-03-27_13-04-33uf17n4kw/openaigym.video.0.125.video000008.mp4\n",
      "Downloading rl-gym-cartpole-2019-03-27-13-01-42-105/output/intermediate/training/PPO_CartPole-v0_0_2019-03-27_13-04-33uf17n4kw/openaigym.video.0.125.video000027.mp4\n",
      "Downloading rl-gym-cartpole-2019-03-27-13-01-42-105/output/intermediate/training/PPO_CartPole-v0_0_2019-03-27_13-04-33uf17n4kw/openaigym.video.0.125.video000064.mp4\n",
      "Downloading rl-gym-cartpole-2019-03-27-13-01-42-105/output/intermediate/training/PPO_CartPole-v0_0_2019-03-27_13-04-33uf17n4kw/openaigym.video.0.125.video000125.mp4\n",
      "Downloading rl-gym-cartpole-2019-03-27-13-01-42-105/output/intermediate/training/PPO_CartPole-v0_0_2019-03-27_13-04-33uf17n4kw/openaigym.video.0.125.video000216.mp4\n",
      "Downloading rl-gym-cartpole-2019-03-27-13-01-42-105/output/intermediate/training/PPO_CartPole-v0_0_2019-03-27_13-04-33uf17n4kw/openaigym.video.0.125.video000343.mp4\n",
      "Downloading rl-gym-cartpole-2019-03-27-13-01-42-105/output/intermediate/training/PPO_CartPole-v0_0_2019-03-27_13-04-33uf17n4kw/openaigym.video.0.125.video000512.mp4\n"
     ]
    }
   ],
   "source": [
    "recent_videos = wait_for_s3_object(\n",
    "            s3_bucket, intermediate_folder_key, tmp_dir, \n",
    "            fetch_only=(lambda obj: obj.key.endswith(\".mp4\") and obj.size>0), \n",
    "            limit=10, training_job_name=job_name)"
   ]
  },
  {
   "cell_type": "code",
   "execution_count": 15,
   "metadata": {},
   "outputs": [
    {
     "data": {
      "text/html": [
       "<video src=\"./src/tmp_render/last_video.mp4\" controls autoplay></video>"
      ],
      "text/plain": [
       "<IPython.core.display.HTML object>"
      ]
     },
     "execution_count": 15,
     "metadata": {},
     "output_type": "execute_result"
    }
   ],
   "source": [
    "last_video = sorted(recent_videos)[-1]  # Pick which video to watch\n",
    "os.system(\"mkdir -p ./src/tmp_render/ && cp {} ./src/tmp_render/last_video.mp4\".format(last_video))\n",
    "HTML('<video src=\"./src/tmp_render/last_video.mp4\" controls autoplay></video>')"
   ]
  },
  {
   "cell_type": "markdown",
   "metadata": {},
   "source": [
    "### Plot metrics for training job\n",
    "We can see the reward metric of the training as it's running, using algorithm metrics that are recorded in CloudWatch metrics.  We can plot this to see the performance of the model over time."
   ]
  },
  {
   "cell_type": "code",
   "execution_count": 16,
   "metadata": {},
   "outputs": [
    {
     "data": {
      "image/png": "[encoded data removed]",
      "text/plain": [
       "<Figure size 864x360 with 1 Axes>"
      ]
     },
     "metadata": {},
     "output_type": "display_data"
    }
   ],
   "source": [
    "%matplotlib inline\n",
    "from sagemaker.analytics import TrainingJobAnalytics\n",
    "\n",
    "if not local_mode:\n",
    "    df = TrainingJobAnalytics(job_name, ['episode_reward_mean']).dataframe()\n",
    "    num_metrics = len(df)\n",
    "    if num_metrics == 0:\n",
    "        print(\"No algorithm metrics found in CloudWatch\")\n",
    "    else:\n",
    "        plt = df.plot(x='timestamp', y='value', figsize=(12,5), legend=True, style='b-')\n",
    "        plt.set_ylabel('Mean reward per episode')\n",
    "        plt.set_xlabel('Training time (s)')\n",
    "else:\n",
    "    print(\"Can't plot metrics in local mode.\")"
   ]
  },
  {
   "cell_type": "markdown",
   "metadata": {},
   "source": [
    "### Monitor training progress\n",
    "You can repeatedly run the visualization cells to get the latest videos or see the latest metrics as the training job proceeds."
   ]
  },
  {
   "cell_type": "markdown",
   "metadata": {},
   "source": [
    "## Evaluation of RL models\n",
    "\n",
    "We use the last checkpointed model to run evaluation for the RL Agent. \n",
    "\n",
    "### Load checkpointed model\n",
    "\n",
    "Checkpointed data from the previously trained models will be passed on for evaluation / inference in the checkpoint channel. In local mode, we can simply use the local directory, whereas in the SageMaker mode, it needs to be moved to S3 first."
   ]
  },
  {
   "cell_type": "code",
   "execution_count": 17,
   "metadata": {},
   "outputs": [
    {
     "name": "stdout",
     "output_type": "stream",
     "text": [
      "Waiting for s3://sagemaker-ap-northeast-1-669108200413/rl-gym-cartpole-2019-03-27-13-01-42-105/output/model.tar.gz...\n",
      "Downloading rl-gym-cartpole-2019-03-27-13-01-42-105/output/model.tar.gz\n",
      "Checkpoint directory /tmp/rl-gym-cartpole-2019-03-27-13-01-42-105/model\n"
     ]
    }
   ],
   "source": [
    "if local_mode:\n",
    "    model_tar_key = \"{}/model.tar.gz\".format(job_name)\n",
    "else:\n",
    "    model_tar_key = \"{}/output/model.tar.gz\".format(job_name)\n",
    "    \n",
    "local_checkpoint_dir = \"{}/model\".format(tmp_dir)\n",
    "\n",
    "wait_for_s3_object(s3_bucket, model_tar_key, tmp_dir, training_job_name=job_name)  \n",
    "\n",
    "if not os.path.isfile(\"{}/model.tar.gz\".format(tmp_dir)):\n",
    "    raise FileNotFoundError(\"File model.tar.gz not found\")\n",
    "    \n",
    "os.system(\"mkdir -p {}\".format(local_checkpoint_dir))\n",
    "os.system(\"tar -xvzf {}/model.tar.gz -C {}\".format(tmp_dir, local_checkpoint_dir))\n",
    "\n",
    "print(\"Checkpoint directory {}\".format(local_checkpoint_dir))"
   ]
  },
  {
   "cell_type": "code",
   "execution_count": 18,
   "metadata": {},
   "outputs": [
    {
     "name": "stdout",
     "output_type": "stream",
     "text": [
      "S3 checkpoint file path: s3://sagemaker-ap-northeast-1-669108200413/rl-gym-cartpole-2019-03-27-13-01-42-105/checkpoint/\n"
     ]
    }
   ],
   "source": [
    "if local_mode:\n",
    "    checkpoint_path = 'file://{}'.format(local_checkpoint_dir)\n",
    "    print(\"Local checkpoint file path: {}\".format(local_checkpoint_dir))\n",
    "else:\n",
    "    checkpoint_path = \"s3://{}/{}/checkpoint/\".format(s3_bucket, job_name)\n",
    "    if not os.listdir(local_checkpoint_dir):\n",
    "        raise FileNotFoundError(\"Checkpoint files not found under the path\")\n",
    "    os.system(\"aws s3 cp --recursive {} {}\".format(local_checkpoint_dir, checkpoint_path))\n",
    "    print(\"S3 checkpoint file path: {}\".format(checkpoint_path))"
   ]
  },
  {
   "cell_type": "code",
   "execution_count": null,
   "metadata": {},
   "outputs": [
    {
     "name": "stderr",
     "output_type": "stream",
     "text": [
      "INFO:sagemaker:Creating training-job with name: rl-gym-cartpole-evaluation-2019-03-27-13-29-15-282\n"
     ]
    },
    {
     "name": "stdout",
     "output_type": "stream",
     "text": [
      "2019-03-27 13:29:17 Starting - Starting the training job...\n",
      "2019-03-27 13:29:18 Starting - Launching requested ML instances......\n",
      "2019-03-27 13:30:24 Starting - Preparing the instances for training...\n",
      "2019-03-27 13:31:13 Downloading - Downloading input data\n",
      "2019-03-27 13:31:13 Training - Downloading the training image.....\n",
      "\u001b[31mbash: cannot set terminal process group (-1): Inappropriate ioctl for device\u001b[0m\n",
      "\u001b[31mbash: no job control in this shell\u001b[0m\n",
      "\u001b[31m2019-03-27 13:31:58,130 sagemaker-containers INFO     Imported framework sagemaker_tensorflow_container.training\u001b[0m\n",
      "\u001b[31m2019-03-27 13:31:58,133 sagemaker-containers INFO     No GPUs detected (normal if no gpus installed)\u001b[0m\n",
      "\u001b[31m2019-03-27 13:31:58,271 sagemaker-containers INFO     No GPUs detected (normal if no gpus installed)\u001b[0m\n",
      "\u001b[31m2019-03-27 13:31:58,282 sagemaker-containers INFO     No GPUs detected (normal if no gpus installed)\u001b[0m\n",
      "\u001b[31m2019-03-27 13:31:58,291 sagemaker-containers INFO     Invoking user script\n",
      "\u001b[0m\n",
      "\u001b[31mTraining Env:\n",
      "\u001b[0m\n",
      "\u001b[31m{\n",
      "    \"additional_framework_parameters\": {\n",
      "        \"sagemaker_estimator\": \"RLEstimator\"\n",
      "    },\n",
      "    \"channel_input_dirs\": {\n",
      "        \"model\": \"/opt/ml/input/data/model\"\n",
      "    },\n",
      "    \"current_host\": \"algo-1\",\n",
      "    \"framework_module\": \"sagemaker_tensorflow_container.training:main\",\n",
      "    \"hosts\": [\n",
      "        \"algo-1\"\n",
      "    ],\n",
      "    \"hyperparameters\": {\n",
      "        \"evaluate_episodes\": 5,\n",
      "        \"env\": \"RoboschoolCartpole-v1\",\n",
      "        \"algorithm\": \"PPO\"\n",
      "    },\n",
      "    \"input_config_dir\": \"/opt/ml/input/config\",\n",
      "    \"input_data_config\": {\n",
      "        \"model\": {\n",
      "            \"TrainingInputMode\": \"File\",\n",
      "            \"S3DistributionType\": \"FullyReplicated\",\n",
      "            \"RecordWrapperType\": \"None\"\n",
      "        }\n",
      "    },\n",
      "    \"input_dir\": \"/opt/ml/input\",\n",
      "    \"is_master\": true,\n",
      "    \"job_name\": \"rl-gym-cartpole-evaluation-2019-03-27-13-29-15-282\",\n",
      "    \"log_level\": 20,\n",
      "    \"master_hostname\": \"algo-1\",\n",
      "    \"model_dir\": \"/opt/ml/model\",\n",
      "    \"module_dir\": \"s3://sagemaker-ap-northeast-1-669108200413/rl-gym-cartpole-evaluation-2019-03-27-13-29-15-282/source/sourcedir.tar.gz\",\n",
      "    \"module_name\": \"evaluate-ray\",\n",
      "    \"network_interface_name\": \"ethwe\",\n",
      "    \"num_cpus\": 8,\n",
      "    \"num_gpus\": 0,\n",
      "    \"output_data_dir\": \"/opt/ml/output/data\",\n",
      "    \"output_dir\": \"/opt/ml/output\",\n",
      "    \"output_intermediate_dir\": \"/opt/ml/output/intermediate\",\n",
      "    \"resource_config\": {\n",
      "        \"current_host\": \"algo-1\",\n",
      "        \"hosts\": [\n",
      "            \"algo-1\"\n",
      "        ],\n",
      "        \"network_interface_name\": \"ethwe\"\n",
      "    },\n",
      "    \"user_entry_point\": \"evaluate-ray.py\"\u001b[0m\n",
      "\u001b[31m}\n",
      "\u001b[0m\n",
      "\u001b[31mEnvironment variables:\n",
      "\u001b[0m\n",
      "\u001b[31mSM_HOSTS=[\"algo-1\"]\u001b[0m\n",
      "\u001b[31mSM_NETWORK_INTERFACE_NAME=ethwe\u001b[0m\n",
      "\u001b[31mSM_HPS={\"algorithm\":\"PPO\",\"env\":\"RoboschoolCartpole-v1\",\"evaluate_episodes\":5}\u001b[0m\n",
      "\u001b[31mSM_USER_ENTRY_POINT=evaluate-ray.py\u001b[0m\n",
      "\u001b[31mSM_FRAMEWORK_PARAMS={\"sagemaker_estimator\":\"RLEstimator\"}\u001b[0m\n",
      "\u001b[31mSM_RESOURCE_CONFIG={\"current_host\":\"algo-1\",\"hosts\":[\"algo-1\"],\"network_interface_name\":\"ethwe\"}\u001b[0m\n",
      "\u001b[31mSM_INPUT_DATA_CONFIG={\"model\":{\"RecordWrapperType\":\"None\",\"S3DistributionType\":\"FullyReplicated\",\"TrainingInputMode\":\"File\"}}\u001b[0m\n",
      "\u001b[31mSM_OUTPUT_DATA_DIR=/opt/ml/output/data\u001b[0m\n",
      "\u001b[31mSM_CHANNELS=[\"model\"]\u001b[0m\n",
      "\u001b[31mSM_CURRENT_HOST=algo-1\u001b[0m\n",
      "\u001b[31mSM_MODULE_NAME=evaluate-ray\u001b[0m\n",
      "\u001b[31mSM_LOG_LEVEL=20\u001b[0m\n",
      "\u001b[31mSM_FRAMEWORK_MODULE=sagemaker_tensorflow_container.training:main\u001b[0m\n",
      "\u001b[31mSM_INPUT_DIR=/opt/ml/input\u001b[0m\n",
      "\u001b[31mSM_INPUT_CONFIG_DIR=/opt/ml/input/config\u001b[0m\n",
      "\u001b[31mSM_OUTPUT_DIR=/opt/ml/output\u001b[0m\n",
      "\u001b[31mSM_NUM_CPUS=8\u001b[0m\n",
      "\u001b[31mSM_NUM_GPUS=0\u001b[0m\n",
      "\u001b[31mSM_MODEL_DIR=/opt/ml/model\u001b[0m\n",
      "\u001b[31mSM_MODULE_DIR=s3://sagemaker-ap-northeast-1-669108200413/rl-gym-cartpole-evaluation-2019-03-27-13-29-15-282/source/sourcedir.tar.gz\u001b[0m\n",
      "\u001b[31mSM_TRAINING_ENV={\"additional_framework_parameters\":{\"sagemaker_estimator\":\"RLEstimator\"},\"channel_input_dirs\":{\"model\":\"/opt/ml/input/data/model\"},\"current_host\":\"algo-1\",\"framework_module\":\"sagemaker_tensorflow_container.training:main\",\"hosts\":[\"algo-1\"],\"hyperparameters\":{\"algorithm\":\"PPO\",\"env\":\"RoboschoolCartpole-v1\",\"evaluate_episodes\":5},\"input_config_dir\":\"/opt/ml/input/config\",\"input_data_config\":{\"model\":{\"RecordWrapperType\":\"None\",\"S3DistributionType\":\"FullyReplicated\",\"TrainingInputMode\":\"File\"}},\"input_dir\":\"/opt/ml/input\",\"is_master\":true,\"job_name\":\"rl-gym-cartpole-evaluation-2019-03-27-13-29-15-282\",\"log_level\":20,\"master_hostname\":\"algo-1\",\"model_dir\":\"/opt/ml/model\",\"module_dir\":\"s3://sagemaker-ap-northeast-1-669108200413/rl-gym-cartpole-evaluation-2019-03-27-13-29-15-282/source/sourcedir.tar.gz\",\"module_name\":\"evaluate-ray\",\"network_interface_name\":\"ethwe\",\"num_cpus\":8,\"num_gpus\":0,\"output_data_dir\":\"/opt/ml/output/data\",\"output_dir\":\"/opt/ml/output\",\"output_intermediate_dir\":\"/opt/ml/output/intermediate\",\"resource_config\":{\"current_host\":\"algo-1\",\"hosts\":[\"algo-1\"],\"network_interface_name\":\"ethwe\"},\"user_entry_point\":\"evaluate-ray.py\"}\u001b[0m\n",
      "\u001b[31mSM_USER_ARGS=[\"--algorithm\",\"PPO\",\"--env\",\"RoboschoolCartpole-v1\",\"--evaluate_episodes\",\"5\"]\u001b[0m\n",
      "\u001b[31mSM_OUTPUT_INTERMEDIATE_DIR=/opt/ml/output/intermediate\u001b[0m\n",
      "\u001b[31mSM_CHANNEL_MODEL=/opt/ml/input/data/model\u001b[0m\n",
      "\u001b[31mSM_HP_EVALUATE_EPISODES=5\u001b[0m\n",
      "\u001b[31mSM_HP_ENV=RoboschoolCartpole-v1\u001b[0m\n",
      "\u001b[31mSM_HP_ALGORITHM=PPO\n",
      "\u001b[0m\n",
      "\u001b[31mInvoking script with the following command:\n",
      "\u001b[0m\n",
      "\u001b[31m/usr/bin/python evaluate-ray.py --algorithm PPO --env RoboschoolCartpole-v1 --evaluate_episodes 5\n",
      "\n",
      "\u001b[0m\n",
      "\u001b[31mProcess STDOUT and STDERR is being redirected to /tmp/raylogs/.\u001b[0m\n",
      "\u001b[31mWaiting for redis server at 127.0.0.1:32874 to respond...\u001b[0m\n",
      "\n",
      "2019-03-27 13:32:13 Uploading - Uploading generated training model\n",
      "2019-03-27 13:32:13 Failed - Training job failed\n",
      "\u001b[31mWaiting for redis server at 127.0.0.1:21032 to respond...\u001b[0m\n",
      "\u001b[31mStarting the Plasma object store with 6.00 GB memory.\u001b[0m\n",
      "\u001b[31mStarting local scheduler with the following resources: {'CPU': 8, 'GPU': 0}.\u001b[0m\n",
      "\u001b[31mFailed to start the UI, you may need to run 'pip install jupyter'.\u001b[0m\n",
      "\u001b[31mCreated LogSyncer for /root/ray_results/PPO_RoboschoolCartpole-v1_2019-03-27_13-32-06rqp599ck -> None\u001b[0m\n",
      "\u001b[31mTraceback (most recent call last):\n",
      "  File \"evaluate-ray.py\", line 110, in <module>\n",
      "    run(args, parser)\n",
      "  File \"evaluate-ray.py\", line 78, in run\n",
      "    agent = cls(env=args.env, config=config)\n",
      "  File \"/usr/local/lib/python3.6/dist-packages/ray/rllib/agents/agent.py\", line 216, in __init__\n",
      "    Trainable.__init__(self, config, logger_creator)\n",
      "  File \"/usr/local/lib/python3.6/dist-packages/ray/tune/trainable.py\", line 84, in __init__\n",
      "    self._setup()\n",
      "  File \"/usr/local/lib/python3.6/dist-packages/ray/rllib/agents/agent.py\", line 258, in _setup\n",
      "    self._init()\n",
      "  File \"/usr/local/lib/python3.6/dist-packages/ray/rllib/agents/ppo/ppo.py\", line 99, in _init\n",
      "    self.env_creator, self._policy_graph)\n",
      "  File \"/usr/local/lib/python3.6/dist-packages/ray/rllib/agents/agent.py\", line 131, in make_local_evaluator\n",
      "    \"inter_op_parallelism_threads\": None,\n",
      "  File \"/usr/local/lib/python3.6/dist-packages/ray/rllib/agents/agent.py\", line 171, in _make_evaluator\n",
      "    monitor_path=self.logdir if config[\"monitor\"] else None)\n",
      "  File \"/usr/local/lib/python3.6/dist-packages/ray/rllib/evaluation/policy_evaluator.py\", line 178, in __init__\n",
      "    self.env = env_creator(env_context)\n",
      "  File \"evaluate-ray.py\", line 53, in create_environment\n",
      "    import roboschool\u001b[0m\n",
      "\u001b[31mModuleNotFoundError: No module named 'roboschool'\u001b[0m\n",
      "\u001b[31mI0327 13:32:06.395100   117 local_scheduler.cc:178] Killed worker pid 118 which hadn't started yet.\u001b[0m\n",
      "\u001b[31mI0327 13:32:06.396873   117 local_scheduler.cc:178] Killed worker pid 119 which hadn't started yet.\u001b[0m\n",
      "\u001b[31mI0327 13:32:06.401315   117 local_scheduler.cc:178] Killed worker pid 120 which hadn't started yet.\u001b[0m\n",
      "\u001b[31mI0327 13:32:06.402549   117 local_scheduler.cc:178] Killed worker pid 121 which hadn't started yet.\u001b[0m\n",
      "\u001b[31mI0327 13:32:06.403769   117 local_scheduler.cc:178] Killed worker pid 122 which hadn't started yet.\u001b[0m\n",
      "\u001b[31mI0327 13:32:06.404733   117 local_scheduler.cc:178] Killed worker pid 123 which hadn't started yet.\u001b[0m\n",
      "\u001b[31mI0327 13:32:06.405666   117 local_scheduler.cc:178] Killed worker pid 124 which hadn't started yet.\u001b[0m\n",
      "\u001b[31mI0327 13:32:06.406577   117 local_scheduler.cc:178] Killed worker pid 125 which hadn't started yet.\u001b[0m\n",
      "\u001b[31m2019-03-27 13:32:06,712 sagemaker-containers ERROR    ExecuteUserScriptError:\u001b[0m\n",
      "\u001b[31mCommand \"/usr/bin/python evaluate-ray.py --algorithm PPO --env RoboschoolCartpole-v1 --evaluate_episodes 5\"\u001b[0m\n"
     ]
    }
   ],
   "source": [
    "%%time\n",
    "    \n",
    "estimator_eval = RLEstimator(entry_point=\"evaluate-ray.py\",\n",
    "                        source_dir='src',\n",
    "                        dependencies=[\"common/sagemaker_rl\"],\n",
    "                        image_name=custom_image_name,\n",
    "                        role=role,\n",
    "                        train_instance_type=instance_type,\n",
    "                        train_instance_count=1,\n",
    "                        base_job_name=job_name_prefix + \"-evaluation\",\n",
    "                        hyperparameters={\n",
    "                            \"evaluate_episodes\": 5,\n",
    "                            \"algorithm\": \"PPO\",\n",
    "                            \"env\": 'Roboschool%s-v1' % roboschool_problem.capitalize()\n",
    "                        }\n",
    "                    )\n",
    "\n",
    "estimator_eval.fit({'model': checkpoint_path})\n",
    "job_name = estimator_eval.latest_training_job.job_name\n",
    "print(\"Evaluation job: %s\" % job_name)"
   ]
  },
  {
   "cell_type": "markdown",
   "metadata": {},
   "source": [
    "### Visualize the output \n",
    "\n",
    "Optionally, you can run the steps defined earlier to visualize the output."
   ]
  },
  {
   "cell_type": "markdown",
   "metadata": {},
   "source": [
    "# Model deployment\n",
    "\n",
    "Now let us deploy the RL policy so that we can get the optimal action, given an environment observation."
   ]
  },
  {
   "cell_type": "code",
   "execution_count": null,
   "metadata": {},
   "outputs": [],
   "source": [
    "from sagemaker.tensorflow.serving import Model\n",
    "\n",
    "model = Model(model_data=estimator.model_data,\n",
    "              role=role)\n",
    "\n",
    "predictor = model.deploy(initial_instance_count=1, instance_type=instance_type)"
   ]
  },
  {
   "cell_type": "code",
   "execution_count": null,
   "metadata": {},
   "outputs": [],
   "source": [
    "# Mapping of environments to observation space\n",
    "observation_space_mapping = {\"reacher\": 9,\n",
    "                             \"hopper\": 15,\n",
    "                             \"humanoid\": 44}"
   ]
  },
  {
   "cell_type": "markdown",
   "metadata": {},
   "source": [
    "Now let us predict the actions using a dummy observation"
   ]
  },
  {
   "cell_type": "code",
   "execution_count": null,
   "metadata": {},
   "outputs": [],
   "source": [
    "input = {\n",
    "  'observations': np.ones((observation_space_mapping[roboschool_problem])),\n",
    "    \n",
    "}\n",
    "result = predictor.predict(input)\n",
    "result"
   ]
  },
  {
   "cell_type": "markdown",
   "metadata": {},
   "source": [
    "### Clean up endpoint"
   ]
  },
  {
   "cell_type": "code",
   "execution_count": null,
   "metadata": {},
   "outputs": [],
   "source": [
    "predictor.delete_endpoint()"
   ]
  }
 ],
 "metadata": {
  "anaconda-cloud": {},
  "kernelspec": {
   "display_name": "conda_tensorflow_p36",
   "language": "python",
   "name": "conda_tensorflow_p36"
  },
  "language_info": {
   "codemirror_mode": {
    "name": "ipython",
    "version": 3
   },
   "file_extension": ".py",
   "mimetype": "text/x-python",
   "name": "python",
   "nbconvert_exporter": "python",
   "pygments_lexer": "ipython3",
   "version": "3.6.5"
  },
  "notice": "Copyright 2018 Amazon.com, Inc. or its affiliates. All Rights Reserved. Licensed under the Apache License, Version 2.0 (the \"License\"). You may not use this file except in compliance with the License. A copy of the License is located at http://aws.amazon.com/apache2.0/ or in the \"license\" file accompanying this file. This file is distributed on an \"AS IS\" BASIS, WITHOUT WARRANTIES OR CONDITIONS OF ANY KIND, either express or implied. See the License for the specific language governing permissions and limitations under the License."
 },
 "nbformat": 4,
 "nbformat_minor": 2
}
