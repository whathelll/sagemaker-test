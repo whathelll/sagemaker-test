{
 "cells": [
  {
   "cell_type": "code",
   "execution_count": 4,
   "metadata": {},
   "outputs": [
    {
     "name": "stdout",
     "output_type": "stream",
     "text": [
      "Counting objects: 13, done.\n",
      "Delta compression using up to 2 threads.\n",
      "Compressing objects: 100% (13/13), done.\n",
      "Writing objects: 100% (13/13), 4.24 KiB | 2.12 MiB/s, done.\n",
      "Total 13 (delta 11), reused 0 (delta 0)\n",
      "remote: Resolving deltas: 100% (11/11), completed with 11 local objects.\u001b[K\n",
      "To https://github.com/whathelll/sagemaker-test.git\n",
      "   4860341..57f6050  master -> master\n"
     ]
    }
   ],
   "source": [
    "!git push"
   ]
  }
 ],
 "metadata": {
  "kernelspec": {
   "display_name": "conda_tensorflow_p36",
   "language": "python",
   "name": "conda_tensorflow_p36"
  },
  "language_info": {
   "codemirror_mode": {
    "name": "ipython",
    "version": 3
   },
   "file_extension": ".py",
   "mimetype": "text/x-python",
   "name": "python",
   "nbconvert_exporter": "python",
   "pygments_lexer": "ipython3",
   "version": "3.6.5"
  }
 },
 "nbformat": 4,
 "nbformat_minor": 2
}
